{
 "cells": [
  {
   "cell_type": "code",
   "execution_count": 8,
   "id": "68f6c729",
   "metadata": {
    "ExecuteTime": {
     "end_time": "2022-09-08T21:01:28.696572Z",
     "start_time": "2022-09-08T21:01:28.692838Z"
    }
   },
   "outputs": [],
   "source": [
    "import torch\n",
    "import torch.nn.functional as F\n",
    "from matplotlib import pyplot as plt\n",
    "import numpy as np\n",
    "import sys\n",
    "from rl_agent import training, ppo_training, DDPG, SAC, TD3, PPO\n",
    "from data_util import toDeviceDataLoader, load_cifar, to_device\n",
    "from model_util import VGG\n",
    "from util import asr, geo_asr, show_attack, diff_affine, project_lp\n",
    "from adv_attacks import fgsm, pgd, geometric_attack, pgd_pca\n",
    "from attack_sim import attack_simulation\n",
    "\n",
    "torch.manual_seed(43)\n",
    "device = torch.device(\"cuda:0\" if torch.cuda.is_available() else \"cpu\")"
   ]
  },
  {
   "cell_type": "code",
   "execution_count": 3,
   "id": "180232d9",
   "metadata": {
    "ExecuteTime": {
     "end_time": "2022-09-08T21:01:45.134964Z",
     "start_time": "2022-09-08T21:01:42.036498Z"
    }
   },
   "outputs": [],
   "source": [
    "dataset_root = 'D:/datasets/'\n",
    "cifar10_train, cifar10_val, cifar10_test = load_cifar(dataset_root)\n",
    "train_loader, val_loader, test_loader = toDeviceDataLoader(cifar10_train, cifar10_val, cifar10_test, device = device)\n",
    "\n",
    "mdl = to_device(VGG('VGG16'), device)\n",
    "mdl.load_state_dict(torch.load('../models/torch_cifar_vgg.pth'))\n",
    "mdl = mdl.eval()"
   ]
  },
  {
   "cell_type": "code",
   "execution_count": 15,
   "id": "c7449b33",
   "metadata": {},
   "outputs": [
    {
     "data": {
      "text/plain": [
       "0.2581999897956848"
      ]
     },
     "execution_count": 15,
     "metadata": {},
     "output_type": "execute_result"
    }
   ],
   "source": [
    "geo_asr(test_loader, mdl, geometric_attack)"
   ]
  },
  {
   "cell_type": "code",
   "execution_count": 9,
   "id": "1ee7019a",
   "metadata": {
    "ExecuteTime": {
     "end_time": "2022-09-08T21:01:46.631921Z",
     "start_time": "2022-09-08T21:01:46.629446Z"
    }
   },
   "outputs": [],
   "source": [
    "# print('ASR Base - {}, ASR FGSM - {}, ASR PGD - {}'.format(asr(test_loader, mdl).item(), asr(test_loader, mdl, adv_alg = fgsm).item(), asr(test_loader, mdl, adv_alg = pgd).item()))\n",
    "# (tensor(0.0829), tensor(0.9119), tensor(0.9999))"
   ]
  },
  {
   "cell_type": "code",
   "execution_count": 10,
   "id": "fb0bc55e",
   "metadata": {
    "ExecuteTime": {
     "end_time": "2022-09-08T21:01:46.885464Z",
     "start_time": "2022-09-08T21:01:46.882993Z"
    }
   },
   "outputs": [],
   "source": [
    "# test_x, test_y = next(iter(test_loader))\n",
    "# v2 = pgd(test_x, test_y, mdl)\n",
    "# show_attack(test_x, v2, mdl)"
   ]
  },
  {
   "cell_type": "code",
   "execution_count": null,
   "id": "cc185496",
   "metadata": {},
   "outputs": [],
   "source": [
    "env = attack_simulation(mdl = mdl, train_ds = cifar10_train, test_ds = cifar10_test, geometric_xi = 0.2, input_reduction = 'pca', in_pca_components = 512, action_reduction = 'geometric', device = device)\n",
    "\n",
    "agent = TD3(env=env, ac_kwargs=dict(hidden_sizes=[256] * 2), gamma=0.99, num_test_episodes=5, max_ep_len=40)\n",
    "training(agent = agent, dir = './tmp', steps_per_epoch=200, epochs=500, n_runs=1, start_steps=10000)"
   ]
  }
 ],
 "metadata": {
  "kernelspec": {
   "display_name": "Python 3.7.13 ('torch')",
   "language": "python",
   "name": "python3"
  },
  "language_info": {
   "codemirror_mode": {
    "name": "ipython",
    "version": 3
   },
   "file_extension": ".py",
   "mimetype": "text/x-python",
   "name": "python",
   "nbconvert_exporter": "python",
   "pygments_lexer": "ipython3",
   "version": "3.7.13"
  },
  "varInspector": {
   "cols": {
    "lenName": 16,
    "lenType": 16,
    "lenVar": 40
   },
   "kernels_config": {
    "python": {
     "delete_cmd_postfix": "",
     "delete_cmd_prefix": "del ",
     "library": "var_list.py",
     "varRefreshCmd": "print(var_dic_list())"
    },
    "r": {
     "delete_cmd_postfix": ") ",
     "delete_cmd_prefix": "rm(",
     "library": "var_list.r",
     "varRefreshCmd": "cat(var_dic_list()) "
    }
   },
   "types_to_exclude": [
    "module",
    "function",
    "builtin_function_or_method",
    "instance",
    "_Feature"
   ],
   "window_display": false
  },
  "vscode": {
   "interpreter": {
    "hash": "19904c26c57a9f11ef9c15e8d6eaf48771577099034050ae46c8499aa616f3b9"
   }
  }
 },
 "nbformat": 4,
 "nbformat_minor": 5
}
